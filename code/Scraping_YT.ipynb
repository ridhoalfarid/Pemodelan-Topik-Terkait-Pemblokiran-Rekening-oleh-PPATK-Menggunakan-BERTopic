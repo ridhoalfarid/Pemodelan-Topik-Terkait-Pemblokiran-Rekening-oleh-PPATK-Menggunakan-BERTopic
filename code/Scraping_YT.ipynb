{
  "cells": [
    {
      "cell_type": "code",
      "execution_count": null,
      "metadata": {
        "colab": {
          "base_uri": "https://localhost:8080/"
        },
        "id": "j8-AfgmQFWCN",
        "outputId": "d307c9c9-9ecc-40ca-a5a4-ebb1f6cb8e4b"
      },
      "outputs": [
        {
          "name": "stdout",
          "output_type": "stream",
          "text": [
            "Requirement already satisfied: google-api-python-client in /usr/local/lib/python3.11/dist-packages (2.177.0)\n",
            "Requirement already satisfied: httplib2<1.0.0,>=0.19.0 in /usr/local/lib/python3.11/dist-packages (from google-api-python-client) (0.22.0)\n",
            "Requirement already satisfied: google-auth!=2.24.0,!=2.25.0,<3.0.0,>=1.32.0 in /usr/local/lib/python3.11/dist-packages (from google-api-python-client) (2.38.0)\n",
            "Requirement already satisfied: google-auth-httplib2<1.0.0,>=0.2.0 in /usr/local/lib/python3.11/dist-packages (from google-api-python-client) (0.2.0)\n",
            "Requirement already satisfied: google-api-core!=2.0.*,!=2.1.*,!=2.2.*,!=2.3.0,<3.0.0,>=1.31.5 in /usr/local/lib/python3.11/dist-packages (from google-api-python-client) (2.25.1)\n",
            "Requirement already satisfied: uritemplate<5,>=3.0.1 in /usr/local/lib/python3.11/dist-packages (from google-api-python-client) (4.2.0)\n",
            "Requirement already satisfied: googleapis-common-protos<2.0.0,>=1.56.2 in /usr/local/lib/python3.11/dist-packages (from google-api-core!=2.0.*,!=2.1.*,!=2.2.*,!=2.3.0,<3.0.0,>=1.31.5->google-api-python-client) (1.70.0)\n",
            "Requirement already satisfied: protobuf!=3.20.0,!=3.20.1,!=4.21.0,!=4.21.1,!=4.21.2,!=4.21.3,!=4.21.4,!=4.21.5,<7.0.0,>=3.19.5 in /usr/local/lib/python3.11/dist-packages (from google-api-core!=2.0.*,!=2.1.*,!=2.2.*,!=2.3.0,<3.0.0,>=1.31.5->google-api-python-client) (5.29.5)\n",
            "Requirement already satisfied: proto-plus<2.0.0,>=1.22.3 in /usr/local/lib/python3.11/dist-packages (from google-api-core!=2.0.*,!=2.1.*,!=2.2.*,!=2.3.0,<3.0.0,>=1.31.5->google-api-python-client) (1.26.1)\n",
            "Requirement already satisfied: requests<3.0.0,>=2.18.0 in /usr/local/lib/python3.11/dist-packages (from google-api-core!=2.0.*,!=2.1.*,!=2.2.*,!=2.3.0,<3.0.0,>=1.31.5->google-api-python-client) (2.32.3)\n",
            "Requirement already satisfied: cachetools<6.0,>=2.0.0 in /usr/local/lib/python3.11/dist-packages (from google-auth!=2.24.0,!=2.25.0,<3.0.0,>=1.32.0->google-api-python-client) (5.5.2)\n",
            "Requirement already satisfied: pyasn1-modules>=0.2.1 in /usr/local/lib/python3.11/dist-packages (from google-auth!=2.24.0,!=2.25.0,<3.0.0,>=1.32.0->google-api-python-client) (0.4.2)\n",
            "Requirement already satisfied: rsa<5,>=3.1.4 in /usr/local/lib/python3.11/dist-packages (from google-auth!=2.24.0,!=2.25.0,<3.0.0,>=1.32.0->google-api-python-client) (4.9.1)\n",
            "Requirement already satisfied: pyparsing!=3.0.0,!=3.0.1,!=3.0.2,!=3.0.3,<4,>=2.4.2 in /usr/local/lib/python3.11/dist-packages (from httplib2<1.0.0,>=0.19.0->google-api-python-client) (3.2.3)\n",
            "Requirement already satisfied: pyasn1<0.7.0,>=0.6.1 in /usr/local/lib/python3.11/dist-packages (from pyasn1-modules>=0.2.1->google-auth!=2.24.0,!=2.25.0,<3.0.0,>=1.32.0->google-api-python-client) (0.6.1)\n",
            "Requirement already satisfied: charset-normalizer<4,>=2 in /usr/local/lib/python3.11/dist-packages (from requests<3.0.0,>=2.18.0->google-api-core!=2.0.*,!=2.1.*,!=2.2.*,!=2.3.0,<3.0.0,>=1.31.5->google-api-python-client) (3.4.2)\n",
            "Requirement already satisfied: idna<4,>=2.5 in /usr/local/lib/python3.11/dist-packages (from requests<3.0.0,>=2.18.0->google-api-core!=2.0.*,!=2.1.*,!=2.2.*,!=2.3.0,<3.0.0,>=1.31.5->google-api-python-client) (3.10)\n",
            "Requirement already satisfied: urllib3<3,>=1.21.1 in /usr/local/lib/python3.11/dist-packages (from requests<3.0.0,>=2.18.0->google-api-core!=2.0.*,!=2.1.*,!=2.2.*,!=2.3.0,<3.0.0,>=1.31.5->google-api-python-client) (2.5.0)\n",
            "Requirement already satisfied: certifi>=2017.4.17 in /usr/local/lib/python3.11/dist-packages (from requests<3.0.0,>=2.18.0->google-api-core!=2.0.*,!=2.1.*,!=2.2.*,!=2.3.0,<3.0.0,>=1.31.5->google-api-python-client) (2025.7.14)\n"
          ]
        }
      ],
      "source": [
        "pip install google-api-python-client"
      ]
    },
    {
      "cell_type": "code",
      "execution_count": null,
      "metadata": {
        "id": "A1XkC_Q6FcaV"
      },
      "outputs": [],
      "source": [
        "def_api_key = ''"
      ]
    },
    {
      "cell_type": "code",
      "execution_count": null,
      "metadata": {
        "id": "XMkc6LEBGGKI"
      },
      "outputs": [],
      "source": [
        "from googleapiclient.discovery import build\n",
        "import pandas as pd\n",
        "import time"
      ]
    },
    {
      "cell_type": "code",
      "execution_count": null,
      "metadata": {
        "colab": {
          "base_uri": "https://localhost:8080/"
        },
        "id": "3SB9DA_UGOfY",
        "outputId": "13c5b0a1-df51-420e-aec8-977dd8a1ea6d"
      },
      "outputs": [
        {
          "name": "stdout",
          "output_type": "stream",
          "text": [
            "                  author                                            comment  \\\n",
            "0        @firman.tannady  Kalau ppatk bisa tau angka deposit judol turun...   \n",
            "1       @nexianmovie2260  Alasannya simpel pak, ya Krn data fiktif yg di...   \n",
            "2  @wahyujatianggara4405  smart sekali haha . mereka bisa tau karena mer...   \n",
            "3           @meme.bola45  Gw baru mau komen gini 😂😂\\nDan gw percaya klai...   \n",
            "4  @andhikasyaifudin4378                                    Dari ZIMBABWE 😂   \n",
            "\n",
            "   likes  is_reply  \n",
            "0    759     False  \n",
            "1     98      True  \n",
            "2     83      True  \n",
            "3     51      True  \n",
            "4     11      True  \n"
          ]
        }
      ],
      "source": [
        "video_id = 'qeDOqI4NqVI'\n",
        "youtube = build('youtube', 'v3', developerKey=def_api_key)\n",
        "\n",
        "def get_comments(video_id):\n",
        "    comments = []\n",
        "\n",
        "    request = youtube.commentThreads().list(\n",
        "        part='snippet,replies',\n",
        "        videoId=video_id,\n",
        "        maxResults=1100,\n",
        "        textFormat='plainText'\n",
        "    )\n",
        "\n",
        "    while request:\n",
        "        response = request.execute()\n",
        "        for item in response['items']:\n",
        "            top_comment = item['snippet']['topLevelComment']['snippet']\n",
        "            comments.append({\n",
        "                'author': top_comment['authorDisplayName'],\n",
        "                'comment': top_comment['textDisplay'],\n",
        "                'likes': top_comment['likeCount'],\n",
        "                'is_reply': False\n",
        "            })\n",
        "\n",
        "            # nested comments (replies)\n",
        "            if 'replies' in item:\n",
        "                for reply in item['replies']['comments']:\n",
        "                    reply_snippet = reply['snippet']\n",
        "                    comments.append({\n",
        "                        'author': reply_snippet['authorDisplayName'],\n",
        "                        'comment': reply_snippet['textDisplay'],\n",
        "                        'likes': reply_snippet['likeCount'],\n",
        "                        'is_reply': True\n",
        "                    })\n",
        "\n",
        "        request = youtube.commentThreads().list_next(request, response)\n",
        "\n",
        "    return comments\n",
        "\n",
        "# Ambil semua komentar\n",
        "all_comments = get_comments(video_id)\n",
        "# Simpan ke DataFrame\n",
        "df = pd.DataFrame(all_comments)\n",
        "# Tampilkan beberapa baris\n",
        "print(df.head())\n",
        "# Simpan ke CSV (opsional)\n",
        "df.to_csv(\"youtube_comments.csv\", index=False)"
      ]
    }
  ],
  "metadata": {
    "colab": {
      "provenance": []
    },
    "kernelspec": {
      "display_name": "Python 3",
      "name": "python3"
    },
    "language_info": {
      "name": "python"
    }
  },
  "nbformat": 4,
  "nbformat_minor": 0
}
