{
 "cells": [
  {
   "cell_type": "code",
   "execution_count": null,
   "id": "bc023324",
   "metadata": {},
   "outputs": [
    {
     "name": "stdout",
     "output_type": "stream",
     "text": [
      "Total komentar opini yang relevan: 2847 dari 4998 total komentar\n"
     ]
    }
   ],
   "source": [
    "import pandas as pd\n",
    "import re\n",
    "\n",
    "df = pd.read_csv(\"D:/SEMESTER 6/Trending Topics on Statistics/final_exam/youtube_comments.csv\")\n",
    "\n",
    "comment_col = 'comment'\n",
    "df = df.dropna(subset=[comment_col])\n",
    "\n",
    "# Pola Kata Kunci\n",
    "pattern = re.compile(r\"(ppatk|judol|pejabat|bank|blokir|pemerintah|rekening)\", re.IGNORECASE)\n",
    "\n",
    "# Minimal Jumlah Kata\n",
    "def is_opini(text):\n",
    "    return bool(pattern.search(text)) and len(text.split()) >= 5\n",
    "\n",
    "df['is_opini'] = df[comment_col].apply(is_opini)\n",
    "df_opini = df[df['is_opini']].copy()\n",
    "\n",
    "\n",
    "df_opini.to_csv(\"filtered_opinion_comments.csv\", index=False)\n",
    "print(f\"Total komentar opini yang relevan: {len(df_opini)} dari {len(df)} total komentar\")\n"
   ]
  }
 ],
 "metadata": {
  "kernelspec": {
   "display_name": "face_rec",
   "language": "python",
   "name": "python3"
  },
  "language_info": {
   "codemirror_mode": {
    "name": "ipython",
    "version": 3
   },
   "file_extension": ".py",
   "mimetype": "text/x-python",
   "name": "python",
   "nbconvert_exporter": "python",
   "pygments_lexer": "ipython3",
   "version": "3.11.13"
  }
 },
 "nbformat": 4,
 "nbformat_minor": 5
}
